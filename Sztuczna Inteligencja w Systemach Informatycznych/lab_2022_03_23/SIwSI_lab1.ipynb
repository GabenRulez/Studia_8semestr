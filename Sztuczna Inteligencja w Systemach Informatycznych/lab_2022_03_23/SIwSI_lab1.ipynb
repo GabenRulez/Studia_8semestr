{
  "cells": [
    {
      "cell_type": "markdown",
      "metadata": {
        "id": "W-SgaGYm1EQk"
      },
      "source": [
        "# LAB1 - Regresja"
      ]
    },
    {
      "cell_type": "markdown",
      "metadata": {
        "id": "vOJshRUW1EQq"
      },
      "source": [
        "Przedmiot: _Sztuczna Inteligencja w Systemach Informatycznych_\n",
        "\n",
        "Autor: Tomasz Szydło\n",
        "\n",
        "kontakt: tszydlo@agh.edu.pl\n"
      ]
    },
    {
      "cell_type": "markdown",
      "metadata": {
        "id": "juO47GyJ1EQs"
      },
      "source": [
        "_wersja dokumentu uzupełniana przez studenta_"
      ]
    },
    {
      "cell_type": "markdown",
      "metadata": {
        "id": "Q3PZV0M21EQs"
      },
      "source": [
        "# Wprowadzenie\n",
        "\n",
        "Regresja liniowa w modelowaniu statystycznym odnosi się do metod opartych o liniowe kombinacje zmiennych i parametrów dopasowujących model do danych. Dopasowana linia lub krzywa regresji reprezentuje oszacowaną wartość oczekiwaną zmiennej y przy konkretnych wartościach innej zmiennej lub zmiennych x. W najprostszym przypadku dopasowana jest stała lub funkcja liniowa.\n",
        "\n",
        "Celem zajęć jest identyfikacja modelu regresji dla problemu czasu obliczeń złożonych operacji matematycznych na CPU. Czas obliczeń zależy głównie od mocy obliczeniowej procesora.\n",
        "\n",
        "Środowisko pracy: Anaconda, Jupyter Notebook\n",
        "\n",
        "Narzędzia: Scikit Learn, Python"
      ]
    },
    {
      "cell_type": "markdown",
      "metadata": {
        "id": "53EtxcGV1EQt"
      },
      "source": [
        "# Regresja - przykład\n",
        "\n",
        "Sposób identyfikacji modelu regresji z wykorzystaniem narzędzi programistycznych przedstawia przykład dla danych dotyczacych cukrzycy:\n",
        "\n",
        "https://archive.ics.uci.edu/ml/datasets/diabetes\n",
        "\n",
        "```\n",
        "Source:\n",
        "\n",
        "Michael Kahn, MD, PhD, Washington University, St. Louis, MO\n",
        "\n",
        "Data Set Information:\n",
        "\n",
        "Diabetes patient records were obtained from two sources: an automatic electronic recording device and paper records. The automatic device had an internal clock to timestamp events, whereas the paper records only provided \"logical time\" slots (breakfast, lunch, dinner, bedtime). For paper records, fixed times were assigned to breakfast (08:00), lunch (12:00), dinner (18:00), and bedtime (22:00). Thus paper records have fictitious uniform recording times whereas electronic records have more realistic time stamps.\n",
        "\n",
        "Diabetes files consist of four fields per record. Each field is separated by a tab and each record is separated by a newline.\n",
        "\n",
        "File Names and format:\n",
        " * (1) Date in MM-DD-YYYY format\n",
        " * (2) Time in XX:YY format\n",
        " * (3) Code\n",
        " * (4) Value\n",
        "\n",
        "\n",
        "The Code field is deciphered as follows:\n",
        " * 33 = Regular insulin dose\n",
        " * 34 = NPH insulin dose\n",
        " * 35 = UltraLente insulin dose\n",
        " * 48 = Unspecified blood glucose measurement\n",
        " * 57 = Unspecified blood glucose measurement\n",
        " * 58 = Pre-breakfast blood glucose measurement\n",
        " * 59 = Post-breakfast blood glucose measurement\n",
        " * 60 = Pre-lunch blood glucose measurement\n",
        " * 61 = Post-lunch blood glucose measurement\n",
        " * 62 = Pre-supper blood glucose measurement\n",
        " * 63 = Post-supper blood glucose measurement\n",
        " * 64 = Pre-snack blood glucose measurement\n",
        " * 65 = Hypoglycemic symptoms\n",
        " * 66 = Typical meal ingestion\n",
        " * 67 = More-than-usual meal ingestion\n",
        " * 68 = Less-than-usual meal ingestion\n",
        " * 69 = Typical exercise activity\n",
        " * 70 = More-than-usual exercise activity\n",
        " * 71 = Less-than-usual exercise activity\n",
        " * 72 = Unspecified special event\n",
        "```\n",
        "\n",
        "W przykładzie zastosowano pierwszą cechę zestawu danych dotyczących cukrzycy, aby zilustrować metodę regresji. Końcowy wykres zawierał będzie zarówno dane źródłowe jak i wykres funkcji liniowej zidentyfikowanej za pomocą regresji. Funkcja liniowa przedstawia zależność pomiędzy danymi wejściowymi a wyjściowymi minimalizując sumę kwadratów pomiędzy poszczególnymi parami punktów.\n",
        "\n",
        "\n",
        "Obliczane są również współczynniki oraz błąd modelu."
      ]
    },
    {
      "cell_type": "code",
      "execution_count": 63,
      "metadata": {
        "id": "7pWLt-2i1EQw"
      },
      "outputs": [],
      "source": [
        "import matplotlib.pyplot as plt\n",
        "import numpy as np\n",
        "from sklearn import datasets, linear_model\n",
        "from sklearn.metrics import mean_squared_error, r2_score"
      ]
    },
    {
      "cell_type": "code",
      "execution_count": 64,
      "metadata": {
        "id": "ZYCOy-CX1EQy"
      },
      "outputs": [],
      "source": [
        "# Load the diabetes dataset\n",
        "diabetes = datasets.load_diabetes()"
      ]
    },
    {
      "cell_type": "code",
      "execution_count": 65,
      "metadata": {
        "id": "Geyfhg-61EQz"
      },
      "outputs": [],
      "source": [
        "# Use only one feature\n",
        "diabetes_X = diabetes.data[:, np.newaxis, 2]\n",
        "\n",
        "# Split the data into training/testing sets\n",
        "diabetes_X_train = diabetes_X[:-20]\n",
        "diabetes_X_test = diabetes_X[-20:]\n",
        "\n",
        "# Split the targets into training/testing sets\n",
        "diabetes_y_train = diabetes.target[:-20]\n",
        "diabetes_y_test = diabetes.target[-20:]"
      ]
    },
    {
      "cell_type": "code",
      "execution_count": 66,
      "metadata": {
        "colab": {
          "base_uri": "https://localhost:8080/"
        },
        "id": "f61PikVD1EQ0",
        "outputId": "4a9ad12b-68bf-4861-bf25-c17a39dfbafc"
      },
      "outputs": [
        {
          "output_type": "execute_result",
          "data": {
            "text/plain": [
              "LinearRegression()"
            ]
          },
          "metadata": {},
          "execution_count": 66
        }
      ],
      "source": [
        "# Create linear regression object\n",
        "regr = linear_model.LinearRegression()\n",
        "\n",
        "# Train the model using the training sets\n",
        "regr.fit(diabetes_X_train, diabetes_y_train)\n"
      ]
    },
    {
      "cell_type": "code",
      "execution_count": 67,
      "metadata": {
        "colab": {
          "base_uri": "https://localhost:8080/"
        },
        "id": "9md_44md1EQ2",
        "outputId": "4598253e-65ab-43e3-c0ec-cfc13f37fae9"
      },
      "outputs": [
        {
          "output_type": "stream",
          "name": "stdout",
          "text": [
            "Coefficients: \n",
            " [938.23786125]\n",
            "Intercept: \n",
            " 152.91886182616167\n",
            "Mean squared error: 2548.07\n",
            "Variance score: 0.47\n"
          ]
        }
      ],
      "source": [
        "# Make predictions using the testing set\n",
        "diabetes_y_pred = regr.predict(diabetes_X_test)\n",
        "\n",
        "# The coefficients\n",
        "print('Coefficients: \\n', regr.coef_)\n",
        "print('Intercept: \\n', regr.intercept_)\n",
        "# The mean squared error\n",
        "print(\"Mean squared error: %.2f\"\n",
        "      % mean_squared_error(diabetes_y_test, diabetes_y_pred))\n",
        "# Explained variance score: 1 is perfect prediction\n",
        "print('Variance score: %.2f' % r2_score(diabetes_y_test, diabetes_y_pred))"
      ]
    },
    {
      "cell_type": "code",
      "execution_count": 68,
      "metadata": {
        "colab": {
          "base_uri": "https://localhost:8080/",
          "height": 265
        },
        "id": "A7K1XMV_1EQ3",
        "outputId": "9915f8e9-6de5-408c-e0ac-24c850c9ab78"
      },
      "outputs": [
        {
          "output_type": "display_data",
          "data": {
            "text/plain": [
              "<Figure size 432x288 with 1 Axes>"
            ],
            "image/png": "[encoded data removed]"
          },
          "metadata": {
            "needs_background": "light"
          }
        }
      ],
      "source": [
        "# Plot outputs\n",
        "plt.scatter(diabetes_X_test, diabetes_y_test,  color='black')\n",
        "plt.plot(diabetes_X_test, diabetes_y_pred, color='blue', linewidth=3)\n",
        "\n",
        "#plt.xticks(())\n",
        "#plt.yticks(())\n",
        "\n",
        "plt.show()"
      ]
    },
    {
      "cell_type": "markdown",
      "metadata": {
        "id": "cNE_LEvN1EQ4"
      },
      "source": [
        "## Regresja - przewidywanie czasu wykonania operacji\n",
        "\n",
        "W systemie komputerowym istnieją dwa procesy obliczeniowe: io\\_heavy oraz cpu\\_heavy charakteryzujące się tym, że w pierszym przypadku czas wykonania jest głównie zależny od dostępu do urządzeń IO, a w drugim przypadku od szybkości procesora."
      ]
    },
    {
      "cell_type": "code",
      "execution_count": 69,
      "metadata": {
        "id": "ZxJ4Qgr01EQ5"
      },
      "outputs": [],
      "source": [
        "import random\n",
        "import string\n",
        "import time\n",
        "\n",
        "def io_heavy(text):\n",
        "    f = open('temp_file.txt', 'wt', encoding='utf-8')\n",
        "    f.write(text)\n",
        "    f.close()\n",
        "    return\n",
        "\n",
        "def cpu_heavy(n):\n",
        "    start = time.time()\n",
        "    count = 0\n",
        "    for i in range(n):\n",
        "        count += i\n",
        "    stop = time.time()\n",
        "    return\n",
        "\n",
        "def run_series_cpu(n, iterations=10):\n",
        "    start = time.time()\n",
        "    for i in range(iterations):\n",
        "        cpu_heavy(n)\n",
        "    stop = time.time()\n",
        "    \n",
        "    return stop - start\n",
        "\n",
        "def run_series(text_size, iterations):\n",
        "    TEXT = ''.join(random.choice(string.ascii_lowercase) for i in range(text_size))\n",
        "    \n",
        "    start = time.time()\n",
        "    for i in range(iterations):\n",
        "        io_heavy(TEXT)\n",
        "    stop = time.time()\n",
        "    \n",
        "    return stop - start"
      ]
    },
    {
      "cell_type": "markdown",
      "metadata": {
        "id": "mmdaumQL1EQ6"
      },
      "source": [
        "Czas obliczeń operacji jest ściśle zależny od mocy obliczeniowej komputera, na którym są one wykonywane."
      ]
    },
    {
      "cell_type": "markdown",
      "metadata": {
        "id": "jboagAF-1EQ6"
      },
      "source": [
        "**TODO** _Opisz specyfikację komputera na którym prowadzone są testy._"
      ]
    },
    {
      "cell_type": "markdown",
      "metadata": {
        "id": "j_8bHS8a1EQ8"
      },
      "source": [
        "Uzupełnij poniższy kod tak by zebrać czasy wykonania operacji *cpu\\_heavy* dla różnych n. Wyniki powinny być zapisane w tablicach *training_x* oraz *training_y*.\n",
        "\n",
        "Korzystamy z funkcji *run\\_series\\_cpu(n)*.\n",
        "\n",
        "TRAINING_N - ilość danych uczących; długość tablic *training_x* oraz *training_y*.\n"
      ]
    },
    {
      "cell_type": "code",
      "execution_count": 74,
      "metadata": {
        "id": "oH0Xx6Ye1EQ8"
      },
      "outputs": [],
      "source": [
        "CPU_MAX_N = 1000000\n",
        "\n",
        "TRAINING_N = 50\n",
        "\n",
        "training_X = []\n",
        "training_y = []\n",
        "\n",
        "for i in range(TRAINING_N):\n",
        "    CPU_N = random.randrange(CPU_MAX_N)\n",
        "    \n",
        "    training_y.append(run_series_cpu(CPU_N))\n",
        "    training_X.append(CPU_N)\n",
        "    #TODO // Zrobione\n"
      ]
    },
    {
      "cell_type": "markdown",
      "metadata": {
        "id": "r37K64VA1EQ9"
      },
      "source": [
        "Przedstaw wykres zależności pomiędzy ilością iteracji obliczeń a czasem wykonania operacji *run\\_series\\_cpu*."
      ]
    },
    {
      "cell_type": "code",
      "execution_count": 75,
      "metadata": {
        "colab": {
          "base_uri": "https://localhost:8080/",
          "height": 278
        },
        "id": "N5z0szwt1EQ9",
        "outputId": "f08d2eec-23f5-4807-f4af-8463cb8450e2"
      },
      "outputs": [
        {
          "output_type": "display_data",
          "data": {
            "text/plain": [
              "<Figure size 432x288 with 1 Axes>"
            ],
            "image/png": "[encoded data removed]"
          },
          "metadata": {
            "needs_background": "light"
          }
        }
      ],
      "source": [
        "plt.scatter(training_X, training_y,  color='black')#TODO // Zrobione\n",
        "plt.show()"
      ]
    },
    {
      "cell_type": "markdown",
      "metadata": {
        "id": "xgYpglv-1EQ-"
      },
      "source": [
        "Naucz model regresji na danych treningowych."
      ]
    },
    {
      "cell_type": "code",
      "source": [
        "training_X = np.array(training_X).reshape(-1, 1)\n",
        "training_y = np.array(training_y) #.reshape(1, -1)"
      ],
      "metadata": {
        "id": "ckkZw8dU5g8h"
      },
      "execution_count": 76,
      "outputs": []
    },
    {
      "cell_type": "code",
      "execution_count": 77,
      "metadata": {
        "colab": {
          "base_uri": "https://localhost:8080/"
        },
        "id": "PiaMe6871EQ-",
        "outputId": "01ca0db0-1ae5-42eb-89d7-583d6695a2ad"
      },
      "outputs": [
        {
          "output_type": "execute_result",
          "data": {
            "text/plain": [
              "LinearRegression()"
            ]
          },
          "metadata": {},
          "execution_count": 77
        }
      ],
      "source": [
        "# Create linear regression object\n",
        "regr = linear_model.LinearRegression()\n",
        "\n",
        "# Train the model using the training sets\n",
        "regr.fit(training_X, training_y) #TODO // Zrobione"
      ]
    },
    {
      "cell_type": "markdown",
      "metadata": {
        "id": "IbG4cBLk1EQ_"
      },
      "source": [
        "Wypisz szczegóły nauczonego modelu regresji, a następnie przedstaw na wykresie zidentyfikowana funkcję liniową odzwierciedlającą zależności w danych."
      ]
    },
    {
      "cell_type": "code",
      "execution_count": 80,
      "metadata": {
        "colab": {
          "base_uri": "https://localhost:8080/",
          "height": 388
        },
        "id": "14UEiUxt1EQ_",
        "outputId": "1fe11ad3-3f2f-48bd-8b75-5e64b4947dad"
      },
      "outputs": [
        {
          "output_type": "stream",
          "name": "stdout",
          "text": [
            "Coefficients: \n",
            " [7.04915071e-07]\n",
            "Intercept: \n",
            " -0.003598336898626431\n",
            "Mean squared error: 0.00\n",
            "Variance score: 1.00\n"
          ]
        },
        {
          "output_type": "display_data",
          "data": {
            "text/plain": [
              "<Figure size 432x288 with 1 Axes>"
            ],
            "image/png": "[encoded data removed]"
          },
          "metadata": {
            "needs_background": "light"
          }
        }
      ],
      "source": [
        "# Make predictions using the testing set\n",
        "training_y_pred = regr.predict(training_X)\n",
        "\n",
        "# The coefficients\n",
        "print('Coefficients: \\n', regr.coef_)\n",
        "print('Intercept: \\n', regr.intercept_)\n",
        "# The mean squared error\n",
        "print(\"Mean squared error: %.2f\"\n",
        "      % mean_squared_error(training_y, training_y_pred))\n",
        "# Explained variance score: 1 is perfect prediction\n",
        "print('Variance score: %.2f' % r2_score(training_y, training_y_pred))\n",
        "\n",
        "\n",
        "plt.scatter(training_X, training_y,  color='black')               #TODO // Zrobione\n",
        "plt.plot(training_X, training_y_pred, color='blue', linewidth=3)  #TODO // Zrobione\n",
        "\n",
        "plt.show()"
      ]
    },
    {
      "cell_type": "markdown",
      "metadata": {
        "id": "3SODhKQw1ERA"
      },
      "source": [
        "Na podstawie opracowanego modelu zaimplementuj funkcję szacującą czas działania procesu *cpu intensive*."
      ]
    },
    {
      "cell_type": "code",
      "execution_count": 100,
      "metadata": {
        "id": "2iK0YGM-1ERB"
      },
      "outputs": [],
      "source": [
        "#testing data\n",
        "\n",
        "def run_series_cpu_predicted_time(n):\n",
        "    n_as_array = np.array([n])\n",
        "    n_as_array = n_as_array.reshape(1, -1)\n",
        "    print(n_as_array)\n",
        "\n",
        "    prediction = regr.predict(n_as_array)  #TODO // Zrobione\n",
        "    return prediction[0]\n"
      ]
    },
    {
      "cell_type": "code",
      "source": [
        "run_series_cpu_predicted_time(500000)"
      ],
      "metadata": {
        "colab": {
          "base_uri": "https://localhost:8080/"
        },
        "id": "DsYPc01x8NUs",
        "outputId": "995365d6-4a70-4894-b945-215d7c609506"
      },
      "execution_count": 102,
      "outputs": [
        {
          "output_type": "stream",
          "name": "stdout",
          "text": [
            "[[500000]]\n"
          ]
        },
        {
          "output_type": "execute_result",
          "data": {
            "text/plain": [
              "0.34885919884392896"
            ]
          },
          "metadata": {},
          "execution_count": 102
        }
      ]
    },
    {
      "cell_type": "markdown",
      "metadata": {
        "id": "5eLTa59e1ERC"
      },
      "source": [
        "Na podstawie współczynników _coef_ oraz _intercept_  z wyuczonego modelu przedstaw funkcję matematyczną szacującą czas działania procesu *cpu intensive*.\n",
        "\n",
        "Przydatne informacje: https://scikit-learn.org/stable/modules/linear_model.html#linear-model"
      ]
    },
    {
      "cell_type": "code",
      "execution_count": 105,
      "metadata": {
        "colab": {
          "base_uri": "https://localhost:8080/"
        },
        "id": "ZLB0Qbk41ERC",
        "outputId": "bad1d7b3-81f0-48c5-8dec-1fb683086395"
      },
      "outputs": [
        {
          "output_type": "stream",
          "name": "stdout",
          "text": [
            "Coefficient: \n",
            " 7.049150714851108e-07\n",
            "Intercept: \n",
            " -0.003598336898626431\n"
          ]
        }
      ],
      "source": [
        "coef = regr.coef_[0]#[0]\n",
        "intercept = regr.intercept_#[0]\n",
        "\n",
        "print('Coefficient: \\n', coef)\n",
        "print('Intercept: \\n', intercept)"
      ]
    },
    {
      "cell_type": "markdown",
      "metadata": {
        "id": "GbraOj7K1ERD"
      },
      "source": [
        "**TODO** Uzupełnij funkcję\n",
        "\n",
        "predicted_time(n) = ... + ...  * n"
      ]
    },
    {
      "cell_type": "code",
      "execution_count": 106,
      "metadata": {
        "id": "xiFkhtHL1ERD"
      },
      "outputs": [],
      "source": [
        "def run_series_cpu_predicted_time_linear_function(n):\n",
        "    return coef * n + intercept #TODO // Zrobione"
      ]
    },
    {
      "cell_type": "markdown",
      "metadata": {
        "id": "jGrc6ZRE1ERD"
      },
      "source": [
        "Wykonaj poniższe operacje i porównaj wyniki."
      ]
    },
    {
      "cell_type": "code",
      "execution_count": 107,
      "metadata": {
        "colab": {
          "base_uri": "https://localhost:8080/"
        },
        "id": "WEA-EFEw1ERE",
        "outputId": "20b02426-891d-4d8a-974d-f557b651238e"
      },
      "outputs": [
        {
          "output_type": "stream",
          "name": "stdout",
          "text": [
            "[[4032003]]\n",
            "Test 1:  4.291895151138306  Predicted: 2.8386213460745546  Predicted2: 2.8386213460745546\n",
            "[[54300]]\n",
            "Test 2:  0.0382387638092041  Predicted: 0.03467855148301508  Predicted2: 0.03467855148301508\n",
            "[[765403]]\n",
            "Test 3:  0.5505585670471191  Predicted: 0.5359457735612918  Predicted2: 0.5359457735612918\n",
            "[[84673]]\n",
            "Test 4:  0.05688738822937012  Predicted: 0.05608893694923235  Predicted2: 0.05608893694923235\n",
            "[[5436574]]\n",
            "Test 5:  3.843280792236328  Predicted: 3.828724612945468  Predicted2: 3.828724612945468\n"
          ]
        }
      ],
      "source": [
        "print(\"Test 1: \",run_series_cpu(4032003),\" Predicted:\", run_series_cpu_predicted_time(4032003),\" Predicted2:\", run_series_cpu_predicted_time_linear_function(4032003))\n",
        "print(\"Test 2: \",run_series_cpu(54300),\" Predicted:\", run_series_cpu_predicted_time(54300),\" Predicted2:\", run_series_cpu_predicted_time_linear_function(54300))\n",
        "print(\"Test 3: \",run_series_cpu(765403),\" Predicted:\", run_series_cpu_predicted_time(765403),\" Predicted2:\", run_series_cpu_predicted_time_linear_function(765403))\n",
        "print(\"Test 4: \",run_series_cpu(84673),\" Predicted:\", run_series_cpu_predicted_time(84673),\" Predicted2:\", run_series_cpu_predicted_time_linear_function(84673))\n",
        "print(\"Test 5: \",run_series_cpu(5436574),\" Predicted:\", run_series_cpu_predicted_time(5436574),\" Predicted2:\", run_series_cpu_predicted_time_linear_function(5436574))\n"
      ]
    },
    {
      "cell_type": "markdown",
      "metadata": {
        "id": "b8SQRRBd1ERE"
      },
      "source": [
        "# Przydatne źródła\n",
        "\n",
        "https://github.com/bfortuner/ml-study/blob/master/multitasking_python.ipynb"
      ]
    }
  ],
  "metadata": {
    "kernelspec": {
      "display_name": "Python 3",
      "language": "python",
      "name": "python3"
    },
    "language_info": {
      "codemirror_mode": {
        "name": "ipython",
        "version": 3
      },
      "file_extension": ".py",
      "mimetype": "text/x-python",
      "name": "python",
      "nbconvert_exporter": "python",
      "pygments_lexer": "ipython3",
      "version": "3.8.3"
    },
    "colab": {
      "name": "lab1-student_v2.ipynb",
      "provenance": []
    }
  },
  "nbformat": 4,
  "nbformat_minor": 0
}