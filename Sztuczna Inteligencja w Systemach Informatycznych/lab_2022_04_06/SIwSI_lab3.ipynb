{
  "nbformat": 4,
  "nbformat_minor": 0,
  "metadata": {
    "kernelspec": {
      "name": "python3",
      "display_name": "Python 3"
    },
    "language_info": {
      "codemirror_mode": {
        "name": "ipython",
        "version": 3
      },
      "file_extension": ".py",
      "mimetype": "text/x-python",
      "name": "python",
      "nbconvert_exporter": "python",
      "pygments_lexer": "ipython3",
      "version": "3.7.6"
    },
    "colab": {
      "name": "lab3_student_v6.ipynb",
      "provenance": [],
      "collapsed_sections": []
    },
    "accelerator": "GPU"
  },
  "cells": [
    {
      "cell_type": "markdown",
      "metadata": {
        "id": "fs1IGQZELwru"
      },
      "source": [
        "# LAB3 - Uczenie sieci neuronowych z wykorzystaniem GPU\n",
        "ver: 6"
      ]
    },
    {
      "cell_type": "markdown",
      "metadata": {
        "id": "yS56lpyELwry"
      },
      "source": [
        "Przedmiot: _Sztuczna Inteligencja w Systemach Informatycznych_\n",
        "\n",
        "Autor: Tomasz Szydło\n",
        "\n",
        "kontakt: tszydlo@agh.edu.pl"
      ]
    },
    {
      "cell_type": "markdown",
      "metadata": {
        "id": "AZ_S41L3Lwr6"
      },
      "source": [
        "Celem laboratorium jest porównanie czasu uczenia sieci neuronowych z wykorzystaniem CPU oraz GPU. Przedmiotem uczenia będzie sieć rozpoznająca cyfry pisane odręcznie. W procesie uczenia zostanie wykorzystany zbiór MNIST:\n",
        "\n",
        "http://yann.lecun.com/exdb/mnist/\n",
        "\n",
        "\n",
        "Laboratorium może być zrealizowane w dwóch środowiskach pracy:\n",
        " * Google Colab w chmurze obliczeniowej;\n",
        " * lokalnie na komputerze wyposażonym w GPU.\n"
      ]
    },
    {
      "cell_type": "markdown",
      "metadata": {
        "id": "IpmQdcI4FZ1L"
      },
      "source": [
        "## Środowisko pracy - Google Codelab\n",
        "\n",
        "https://codelabs.developers.google.com/?cat=Machine+Learning\n",
        "\n",
        "Dostęp do notatnika: https://colab.research.google.com\n",
        "\n",
        "Włączenie/wyłączenie wsparcia GPU odbywa się poprzez zmianę opcji środowiska uruchomieniowego:\n",
        " * Runtime -> Change runtime type -> Hardware accelerator -> None/GPU\n"
      ]
    },
    {
      "cell_type": "markdown",
      "metadata": {
        "id": "e1Q7W6I1FsVO"
      },
      "source": [
        "## Środowisko pracy - PC + GPU/CUDA + Anaconda\n",
        "\n",
        "Realizacja laboratorium wymaga Anacondy ze środowiskami:\n",
        " * tensorflow\n",
        " * tensorflow_gpuenv\n",
        " \n",
        "Różnica pomiędzy nimi polega na wykorzystaniu implementacji biblioteki Tensorflow z NVidia CUDA.\n",
        "\n",
        "Tworzenie środowisk:\n",
        " * wersja z CPU:\n",
        "\n",
        "```\n",
        "conda create -n tensorflow_env tensorflow\n",
        "conda activate tensorflow_env\n",
        "```\n",
        "\n",
        " * wersja z GPU:\n",
        "\n",
        "```\n",
        "conda create -n tensorflow_gpuenv tensorflow-gpu\n",
        "conda activate tensorflow_gpuenv\n",
        "```\n",
        "\n",
        "Za pomocą Anaconda Navigator uruchamiamy Jupyter Notebook w konkretnym środowisku - tylko CPU lub ze wsparciem GPU.\n"
      ]
    },
    {
      "cell_type": "markdown",
      "metadata": {
        "id": "F25OBqfZLwsA"
      },
      "source": [
        "## Sieć neuronowa dla zbioru MNIST"
      ]
    },
    {
      "cell_type": "markdown",
      "metadata": {
        "id": "aTQZi3VcLwsC"
      },
      "source": [
        "Przygotowanie środowiska - należy uruchomić notatnik z obliczeniami wyłącznie na CPU."
      ]
    },
    {
      "cell_type": "code",
      "metadata": {
        "id": "Qs9wYVcZNY05"
      },
      "source": [
        "try:\n",
        "  %tensorflow_version 2.x\n",
        "except:\n",
        "  pass"
      ],
      "execution_count": 1,
      "outputs": []
    },
    {
      "cell_type": "code",
      "metadata": {
        "id": "y3MzdLevLwsD"
      },
      "source": [
        "import numpy as np\n",
        "import matplotlib.pyplot as plt\n",
        "import tensorflow\n",
        "\n",
        "from tensorflow.keras.datasets import mnist\n",
        "from tensorflow.keras.models import Sequential\n",
        "from tensorflow.keras.layers import Dense, Dropout, Activation, Flatten, Conv2D, AveragePooling2D\n",
        "from keras.utils import np_utils\n",
        "\n",
        "plt.rcParams['figure.figsize'] = (7,7) # Make the figures a bit bigger"
      ],
      "execution_count": 2,
      "outputs": []
    },
    {
      "cell_type": "code",
      "metadata": {
        "id": "aM1I_zfvxOKD",
        "colab": {
          "base_uri": "https://localhost:8080/"
        },
        "outputId": "a163e7aa-c76f-41b0-dd5d-2bb662051ccb"
      },
      "source": [
        "physical_devices = tensorflow.config.list_physical_devices('GPU')\n",
        "print(\"Num GPUs:\", len(physical_devices))"
      ],
      "execution_count": 3,
      "outputs": [
        {
          "output_type": "stream",
          "name": "stdout",
          "text": [
            "Num GPUs: 1\n"
          ]
        }
      ]
    },
    {
      "cell_type": "code",
      "metadata": {
        "id": "6aDH7dBMLwsY",
        "colab": {
          "base_uri": "https://localhost:8080/"
        },
        "outputId": "e004a614-e446-4323-bfb7-4cd6a8afda08"
      },
      "source": [
        "nb_classes = 10\n",
        "\n",
        "# the data, shuffled and split between tran and test sets\n",
        "(X_train, y_train), (X_test, y_test) = mnist.load_data()\n",
        "print(\"X_train original shape\", X_train.shape)\n",
        "print(\"y_train original shape\", y_train.shape)"
      ],
      "execution_count": 4,
      "outputs": [
        {
          "output_type": "stream",
          "name": "stdout",
          "text": [
            "Downloading data from https://storage.googleapis.com/tensorflow/tf-keras-datasets/mnist.npz\n",
            "11493376/11490434 [==============================] - 0s 0us/step\n",
            "11501568/11490434 [==============================] - 0s 0us/step\n",
            "X_train original shape (60000, 28, 28)\n",
            "y_train original shape (60000,)\n"
          ]
        }
      ]
    },
    {
      "cell_type": "markdown",
      "metadata": {
        "id": "e1Fb4X4sLwsh"
      },
      "source": [
        "Zwizualizuj przykładowe dane."
      ]
    },
    {
      "cell_type": "code",
      "metadata": {
        "id": "q741OgE6Lwsi",
        "colab": {
          "base_uri": "https://localhost:8080/",
          "height": 444
        },
        "outputId": "d170b9ec-4739-4621-be49-aa3224c3c816"
      },
      "source": [
        "for i in range(9):\n",
        "    plt.subplot(3,3,i+1)\n",
        "    plt.imshow(X_train[i], cmap='gray', interpolation='none')\n",
        "    plt.title(\"Class {}\".format(y_train[i]))"
      ],
      "execution_count": 5,
      "outputs": [
        {
          "output_type": "display_data",
          "data": {
            "text/plain": [
              "<Figure size 504x504 with 9 Axes>"
            ],
            "image/png": "[encoded data removed]"
          },
          "metadata": {
            "needs_background": "light"
          }
        }
      ]
    },
    {
      "cell_type": "markdown",
      "metadata": {
        "id": "NuFEHgMhLwsp"
      },
      "source": [
        "Sieć neuronowa przyjmuje na wejściu obrazek z jednym kanałem - poziomem jasności, więc konieczne jest przekształcenie danych wejściowych, aby każdy obraz 28 x 28 stał się macierzą 28 x 28 x 1. \n",
        "\n",
        "Skalujemy również dane wejściowe w zakresie [0–1] zamiast [0–255]"
      ]
    },
    {
      "cell_type": "code",
      "metadata": {
        "id": "2XwmB8dSLwsq",
        "colab": {
          "base_uri": "https://localhost:8080/"
        },
        "outputId": "d9e98330-72eb-45d5-edb7-56ecb3bebf77"
      },
      "source": [
        "X_train = X_train.reshape(60000, 28,28,1)\n",
        "X_test = X_test.reshape(10000, 28,28,1)\n",
        "\n",
        "X_train = X_train.astype('float32')\n",
        "X_test = X_test.astype('float32')\n",
        "X_train /= 255 #TODO #Zrobione\n",
        "X_test /= 255 #TODO #Zrobione\n",
        "print(\"Training matrix shape\", X_train.shape)\n",
        "print(\"Testing matrix shape\", X_test.shape)"
      ],
      "execution_count": 6,
      "outputs": [
        {
          "output_type": "stream",
          "name": "stdout",
          "text": [
            "Training matrix shape (60000, 28, 28, 1)\n",
            "Testing matrix shape (10000, 28, 28, 1)\n"
          ]
        }
      ]
    },
    {
      "cell_type": "markdown",
      "metadata": {
        "id": "hU9F52b4Lwsy"
      },
      "source": [
        "Zmodyfikuj macierze wyjść korzystając z techniki One Hot Encoding, tj.\n",
        "\n",
        "```\n",
        "0 -> [1, 0, 0, 0, 0, 0, 0, 0, 0]\n",
        "1 -> [0, 1, 0, 0, 0, 0, 0, 0, 0]\n",
        "2 -> [0, 0, 1, 0, 0, 0, 0, 0, 0]\n",
        "```\n",
        "itp."
      ]
    },
    {
      "cell_type": "code",
      "metadata": {
        "id": "mOEeudBmLwsz"
      },
      "source": [
        "Y_train = np_utils.to_categorical(y_train, nb_classes) #TODO #Zrobione\n",
        "Y_test = np_utils.to_categorical(y_test, nb_classes) #TODO #Zrobione"
      ],
      "execution_count": 7,
      "outputs": []
    },
    {
      "cell_type": "markdown",
      "metadata": {
        "id": "AM5Kq1eaLws4"
      },
      "source": [
        "#Sieć MLP\n",
        "Zbuduj sieć neuronową. Na potrzeby zajęć sieć będzie posiadała 2 w pełni połączone warstwy. Na wejściu sieci jest macierz z jednym kanałem (28,28,1) dlatego pierwsza warstwa to *Flatten()*."
      ]
    },
    {
      "cell_type": "code",
      "metadata": {
        "id": "wKreY86SLws5"
      },
      "source": [
        "model = Sequential()\n",
        "model.add(Flatten(input_shape=(28,28,)))\n",
        "model.add(Dense(512, input_shape=(784,)))\n",
        "model.add(Activation('relu'))\n",
        "model.add(Dropout(0.2))   # Dropout helps protect the model from memorizing or \"overfitting\" the training data\n",
        "\n",
        "model.add(Dense(512))\n",
        "model.add(Activation('relu'))\n",
        "model.add(Dropout(0.2))\n",
        "\n",
        "model.add(Dense(10))\n",
        "model.add(Activation('softmax')) # w celu zapewnienia rozkładu wyjść sumującego się do 1"
      ],
      "execution_count": 8,
      "outputs": []
    },
    {
      "cell_type": "markdown",
      "metadata": {
        "id": "5IIpzKZJ2gaQ"
      },
      "source": [
        "#Sieć CNN\n",
        "Zbuduj sieć neuronową. Powinna to być sieć LeNet-5 ze zmodyfikowanym rozmiarem wejścia (28,28,1) zamiast (32,32,1)."
      ]
    },
    {
      "cell_type": "code",
      "metadata": {
        "id": "CDGMkAkw2jjO"
      },
      "source": [
        "model = Sequential()\n",
        "model.add(Conv2D(filters=6, kernel_size=(3, 3), activation='relu', input_shape=(28,28,1)))\n",
        "\n",
        "model.add(AveragePooling2D(pool_size=(2,2), strides=(2,2), padding='valid'))\n",
        "\n",
        "model.add(Conv2D(16, kernel_size=(5, 5), activation='relu'))\n",
        "\n",
        "model.add(AveragePooling2D(pool_size=(2,2), strides=(2,2), padding='valid'))\n",
        "\n",
        "model.add(Flatten())\n",
        "model.add(Dense(120))\n",
        "model.add(Dense(84))\n",
        "model.add(Dense(nb_classes))\n",
        "model.add(Activation('softmax'))"
      ],
      "execution_count": 15,
      "outputs": []
    },
    {
      "cell_type": "markdown",
      "metadata": {
        "id": "aWGpp5O1Lws-"
      },
      "source": [
        "#Kompilacja modelu\n",
        "\n",
        "Kolejnym krokiem jest kompilacja modelu. Biblioteka Keras jest wysokopoziomowym API upraszczającym tworzenie i uczenie sieci neuronowych z wykorzystaniem biblitoeki Tensorflow. Podczas kompilacji sieci, biblioteka Keras wymaga określenia funkcji strat oraz algorytmu optymalizującego proces uczenia."
      ]
    },
    {
      "cell_type": "code",
      "metadata": {
        "id": "Cpn0-puHLws-"
      },
      "source": [
        "model.compile(loss='categorical_crossentropy', optimizer='adam', metrics=['accuracy'])"
      ],
      "execution_count": 16,
      "outputs": []
    },
    {
      "cell_type": "code",
      "metadata": {
        "id": "MZH1a31GLwtF",
        "colab": {
          "base_uri": "https://localhost:8080/"
        },
        "outputId": "14f281dd-fd82-4d2e-f6b5-f22c5c4f15ae"
      },
      "source": [
        "model.summary()"
      ],
      "execution_count": 17,
      "outputs": [
        {
          "output_type": "stream",
          "name": "stdout",
          "text": [
            "Model: \"sequential_1\"\n",
            "_________________________________________________________________\n",
            " Layer (type)                Output Shape              Param #   \n",
            "=================================================================\n",
            " conv2d (Conv2D)             (None, 26, 26, 6)         60        \n",
            "                                                                 \n",
            " average_pooling2d (AverageP  (None, 13, 13, 6)        0         \n",
            " ooling2D)                                                       \n",
            "                                                                 \n",
            " conv2d_1 (Conv2D)           (None, 9, 9, 16)          2416      \n",
            "                                                                 \n",
            " average_pooling2d_1 (Averag  (None, 4, 4, 16)         0         \n",
            " ePooling2D)                                                     \n",
            "                                                                 \n",
            " flatten_1 (Flatten)         (None, 256)               0         \n",
            "                                                                 \n",
            " dense_3 (Dense)             (None, 120)               30840     \n",
            "                                                                 \n",
            " dense_4 (Dense)             (None, 84)                10164     \n",
            "                                                                 \n",
            " dense_5 (Dense)             (None, 10)                850       \n",
            "                                                                 \n",
            " activation_3 (Activation)   (None, 10)                0         \n",
            "                                                                 \n",
            "=================================================================\n",
            "Total params: 44,330\n",
            "Trainable params: 44,330\n",
            "Non-trainable params: 0\n",
            "_________________________________________________________________\n"
          ]
        }
      ]
    },
    {
      "cell_type": "markdown",
      "metadata": {
        "id": "oN0iPEysLwtK"
      },
      "source": [
        "Po kompilacji modelu sieci neuronowej można przystąpić do uczenia sieci. Ze względu na fakt, że Jupyter notebook został uruchiomy w środowisku z biblioteką Tensorflow bez wsparcia dla GPU, to obliczenia będa wykonywane tylko i wyłącznie na CPU."
      ]
    },
    {
      "cell_type": "code",
      "metadata": {
        "id": "h13u1lcur4wl"
      },
      "source": [
        "import time\n",
        "import keras\n",
        "class TimeHistory(keras.callbacks.Callback):\n",
        "    def on_train_begin(self, logs={}):\n",
        "        self.times = []\n",
        "\n",
        "    def on_epoch_begin(self, batch, logs={}):\n",
        "        self.epoch_time_start = time.time()\n",
        "\n",
        "    def on_epoch_end(self, batch, logs={}):\n",
        "        self.times.append(time.time() - self.epoch_time_start)\n",
        "time_callback = TimeHistory()"
      ],
      "execution_count": 18,
      "outputs": []
    },
    {
      "cell_type": "code",
      "metadata": {
        "id": "97euA1BoLwtK",
        "colab": {
          "base_uri": "https://localhost:8080/"
        },
        "outputId": "5dc23496-1e53-4f14-d6bd-e5446ba7fe3d"
      },
      "source": [
        "model.fit(X_train, Y_train,\n",
        "          batch_size=128, epochs=16,\n",
        "          verbose=1,\n",
        "          validation_data=(X_test, Y_test), callbacks = time_callback)"
      ],
      "execution_count": 19,
      "outputs": [
        {
          "output_type": "stream",
          "name": "stdout",
          "text": [
            "Epoch 1/16\n",
            "469/469 [==============================] - 12s 9ms/step - loss: 0.3327 - accuracy: 0.9060 - val_loss: 0.0991 - val_accuracy: 0.9711\n",
            "Epoch 2/16\n",
            "469/469 [==============================] - 3s 7ms/step - loss: 0.0988 - accuracy: 0.9706 - val_loss: 0.0692 - val_accuracy: 0.9793\n",
            "Epoch 3/16\n",
            "469/469 [==============================] - 3s 7ms/step - loss: 0.0747 - accuracy: 0.9776 - val_loss: 0.0527 - val_accuracy: 0.9832\n",
            "Epoch 4/16\n",
            "469/469 [==============================] - 3s 7ms/step - loss: 0.0601 - accuracy: 0.9819 - val_loss: 0.0485 - val_accuracy: 0.9852\n",
            "Epoch 5/16\n",
            "469/469 [==============================] - 3s 7ms/step - loss: 0.0523 - accuracy: 0.9840 - val_loss: 0.0386 - val_accuracy: 0.9879\n",
            "Epoch 6/16\n",
            "469/469 [==============================] - 3s 7ms/step - loss: 0.0469 - accuracy: 0.9858 - val_loss: 0.0398 - val_accuracy: 0.9866\n",
            "Epoch 7/16\n",
            "469/469 [==============================] - 3s 7ms/step - loss: 0.0436 - accuracy: 0.9865 - val_loss: 0.0377 - val_accuracy: 0.9879\n",
            "Epoch 8/16\n",
            "469/469 [==============================] - 3s 7ms/step - loss: 0.0403 - accuracy: 0.9877 - val_loss: 0.0350 - val_accuracy: 0.9891\n",
            "Epoch 9/16\n",
            "469/469 [==============================] - 3s 7ms/step - loss: 0.0355 - accuracy: 0.9889 - val_loss: 0.0337 - val_accuracy: 0.9893\n",
            "Epoch 10/16\n",
            "469/469 [==============================] - 3s 7ms/step - loss: 0.0343 - accuracy: 0.9889 - val_loss: 0.0314 - val_accuracy: 0.9901\n",
            "Epoch 11/16\n",
            "469/469 [==============================] - 3s 7ms/step - loss: 0.0316 - accuracy: 0.9904 - val_loss: 0.0374 - val_accuracy: 0.9877\n",
            "Epoch 12/16\n",
            "469/469 [==============================] - 3s 7ms/step - loss: 0.0299 - accuracy: 0.9907 - val_loss: 0.0334 - val_accuracy: 0.9896\n",
            "Epoch 13/16\n",
            "469/469 [==============================] - 3s 7ms/step - loss: 0.0288 - accuracy: 0.9908 - val_loss: 0.0320 - val_accuracy: 0.9901\n",
            "Epoch 14/16\n",
            "469/469 [==============================] - 3s 7ms/step - loss: 0.0264 - accuracy: 0.9917 - val_loss: 0.0344 - val_accuracy: 0.9891\n",
            "Epoch 15/16\n",
            "469/469 [==============================] - 3s 7ms/step - loss: 0.0240 - accuracy: 0.9926 - val_loss: 0.0291 - val_accuracy: 0.9903\n",
            "Epoch 16/16\n",
            "469/469 [==============================] - 3s 7ms/step - loss: 0.0240 - accuracy: 0.9922 - val_loss: 0.0367 - val_accuracy: 0.9878\n"
          ]
        },
        {
          "output_type": "execute_result",
          "data": {
            "text/plain": [
              "<keras.callbacks.History at 0x7f2988f42cd0>"
            ]
          },
          "metadata": {},
          "execution_count": 19
        }
      ]
    },
    {
      "cell_type": "code",
      "metadata": {
        "id": "jT9qa296sjL9",
        "colab": {
          "base_uri": "https://localhost:8080/"
        },
        "outputId": "5fd73608-278f-49ff-b005-4a37268ea8b5"
      },
      "source": [
        "times = time_callback.times\n",
        "\n",
        "print(times)"
      ],
      "execution_count": 20,
      "outputs": [
        {
          "output_type": "stream",
          "name": "stdout",
          "text": [
            "[11.942849397659302, 3.3942267894744873, 3.3814339637756348, 3.4315147399902344, 3.353274345397949, 3.4221627712249756, 3.3973991870880127, 3.3794143199920654, 3.322537899017334, 3.3416130542755127, 3.463308811187744, 3.3487465381622314, 3.3868649005889893, 3.355537176132202, 3.424999475479126, 3.4024124145507812]\n"
          ]
        }
      ]
    },
    {
      "cell_type": "markdown",
      "metadata": {
        "id": "QwwGeJ6PLwtp"
      },
      "source": [
        "## Ewaluacja sieci neuronowej dla zbioru MNIST"
      ]
    },
    {
      "cell_type": "code",
      "metadata": {
        "id": "W8ZNIBBdLwtr",
        "colab": {
          "base_uri": "https://localhost:8080/",
          "height": 889
        },
        "outputId": "510c8c14-ab15-4fa3-ad33-f10660663ac5"
      },
      "source": [
        "score = model.evaluate(X_test, Y_test,verbose=0)\n",
        "print('Test score:', score)\n",
        "\n",
        "predicted_classes = np.argmax(model.predict(X_test), axis=-1)\n",
        "correct_indices = np.nonzero(predicted_classes == y_test)[0]\n",
        "incorrect_indices = np.nonzero(predicted_classes != y_test)[0]\n",
        "\n",
        "plt.figure()\n",
        "for i, correct in enumerate(correct_indices[:9]):\n",
        "    plt.subplot(3,3,i+1)\n",
        "    plt.imshow(X_test[correct].reshape(28,28), cmap='gray', interpolation='none')\n",
        "    plt.title(\"Predicted {}, Class {}\".format(predicted_classes[correct], y_test[correct]))\n",
        "    \n",
        "plt.figure()\n",
        "for i, incorrect in enumerate(incorrect_indices[:9]):\n",
        "    plt.subplot(3,3,i+1)\n",
        "    plt.imshow(X_test[incorrect].reshape(28,28), cmap='gray', interpolation='none')\n",
        "    plt.title(\"Predicted {}, Class {}\".format(predicted_classes[incorrect], y_test[incorrect]))"
      ],
      "execution_count": 21,
      "outputs": [
        {
          "output_type": "stream",
          "name": "stdout",
          "text": [
            "Test score: [0.036667827516794205, 0.9878000020980835]\n"
          ]
        },
        {
          "output_type": "display_data",
          "data": {
            "text/plain": [
              "<Figure size 504x504 with 9 Axes>"
            ],
            "image/png": "[encoded data removed]"
          },
          "metadata": {
            "needs_background": "light"
          }
        },
        {
          "output_type": "display_data",
          "data": {
            "text/plain": [
              "<Figure size 504x504 with 9 Axes>"
            ],
            "image/png": "[encoded data removed]"
          },
          "metadata": {
            "needs_background": "light"
          }
        }
      ]
    },
    {
      "cell_type": "markdown",
      "metadata": {
        "id": "XT0BYxGwLwtS"
      },
      "source": [
        "## Analiza czasu uczenia sieci z wykorzystaniem CPU oraz przy wsparciu GPU"
      ]
    },
    {
      "cell_type": "markdown",
      "metadata": {
        "id": "jv7kWHYwLwtS"
      },
      "source": [
        "Uzupełnij poniższy fragment kodu wpisując dane dotyczące czasu obliczeń dla każdej z szesnastu epok uczenia sieci neuronowej."
      ]
    },
    {
      "cell_type": "code",
      "metadata": {
        "id": "PBhpuE6SLwtT"
      },
      "source": [
        "cpu_epoch_time_MLP = [8.223425388336182, 7.540436506271362, 7.524484634399414, 7.58860445022583, 7.607919692993164, 7.584991931915283, 7.611855983734131, 7.732124090194702, 7.706037759780884, 7.656989097595215, 7.68789529800415, 7.648418426513672, 7.713546991348267, 7.666224479675293, 7.6459574699401855, 7.6245012283325195]\n",
        "cpu_accuracy_MLP = 0.9846000075340271\n",
        "\n",
        "cpu_epoch_time_CNN = [20.315272092819214, 19.08050012588501, 19.03802800178528, 19.056329250335693, 19.1840341091156, 19.16334819793701, 19.08606195449829, 19.06908869743347, 18.92745852470398, 19.062525510787964, 19.1621253490448, 19.075207948684692, 19.14508318901062, 19.167874097824097, 19.122178554534912, 19.119972944259644]\n",
        "cpu_accuracy_CNN = 0.988099992275238\n"
      ],
      "execution_count": 23,
      "outputs": []
    },
    {
      "cell_type": "markdown",
      "metadata": {
        "id": "rCnXpfgpLwtd"
      },
      "source": [
        "Uaktywnij wsparcie GPU dla obliczeń i uruchom ponownie proces uczenia sieci neuronowej na bazie MNIST i uzupełnij fragment kodu poniżej.\n",
        "\n",
        "W przypadku środowiska Anaconda zamknij środowisko *tensorflow\\_env* i uruchom środowisko *tensorflow\\_gpuenv*. W przypadku Google Colab zmień ustawienia środowiska uruchomieniowego.\n",
        "\n"
      ]
    },
    {
      "cell_type": "code",
      "metadata": {
        "id": "r19aSv6jLwte"
      },
      "source": [
        "gpu_epoch_time_MLP = [5.551625967025757, 2.5298471450805664, 2.490520715713501, 2.5280776023864746, 2.6234912872314453, 2.623953342437744, 2.537140369415283, 2.5664453506469727, 2.5306284427642822, 2.455348491668701, 2.5339295864105225, 2.531414747238159, 2.546180486679077, 2.5975160598754883, 2.4964773654937744, 2.486889600753784]\n",
        "gpu_accuracy_MLP = 0.9837999939918518\n",
        "\n",
        "gpu_epoch_time_CNN = [11.942849397659302, 3.3942267894744873, 3.3814339637756348, 3.4315147399902344, 3.353274345397949, 3.4221627712249756, 3.3973991870880127, 3.3794143199920654, 3.322537899017334, 3.3416130542755127, 3.463308811187744, 3.3487465381622314, 3.3868649005889893, 3.355537176132202, 3.424999475479126, 3.4024124145507812]\n",
        "gpu_accuracy_CNN = 0.9878000020980835"
      ],
      "execution_count": 24,
      "outputs": []
    },
    {
      "cell_type": "markdown",
      "metadata": {
        "id": "FgGmLKKDLwtj"
      },
      "source": [
        "Zwizualizuj i przeanalizuj czas uczenia sieci neuronowej z CPU i GPU."
      ]
    },
    {
      "cell_type": "code",
      "metadata": {
        "id": "H8AOGoRtLwtj",
        "colab": {
          "base_uri": "https://localhost:8080/",
          "height": 500
        },
        "outputId": "79e6d95a-6a74-4efe-efc0-e4406f8f8f71"
      },
      "source": [
        "#TODO przedstaw czas obliczeń gpu_epoch_time, cpu_epoch_time na wykresie pudełkowym #Zrobione\n",
        "my_dict = {\n",
        "    'CPU_MLP': cpu_epoch_time_MLP, \n",
        "    'CPU_CNN': cpu_epoch_time_CNN,\n",
        "    'GPU_MLP': gpu_epoch_time_MLP,\n",
        "    'GPU_CNN': gpu_epoch_time_CNN\n",
        "    }\n",
        "\n",
        "fig, ax = plt.subplots()\n",
        "ax.boxplot(my_dict.values())\n",
        "ax.set_xticklabels(my_dict.keys())"
      ],
      "execution_count": 26,
      "outputs": [
        {
          "output_type": "execute_result",
          "data": {
            "text/plain": [
              "[Text(0, 0, 'CPU_MLP'),\n",
              " Text(0, 0, 'CPU_CNN'),\n",
              " Text(0, 0, 'GPU_MLP'),\n",
              " Text(0, 0, 'GPU_CNN')]"
            ]
          },
          "metadata": {},
          "execution_count": 26
        },
        {
          "output_type": "display_data",
          "data": {
            "text/plain": [
              "<Figure size 504x504 with 1 Axes>"
            ],
            "image/png": "[encoded data removed]"
          },
          "metadata": {
            "needs_background": "light"
          }
        }
      ]
    },
    {
      "cell_type": "markdown",
      "metadata": {
        "id": "t23eG5H2PXiu"
      },
      "source": [
        "**Wnioski**\n",
        "\n",
        "*#TODO Przeanalizuj różnicę pomiędzy czasem obliczeń dla CPU i GPU oraz osiągniętą jakością sieci neuronowej.*\n",
        "\n",
        "Dla sieci MLP czas wykonania zmniejszył się aż 3 trzykrotnie przy przejściu na GPU. Dla sieci CNN różnica była jeszcze większa - około 7 razy krócej.\n",
        "\n",
        "*#TODO W przypadku korzystania z własnej karty GPU podaj specyfikację techniczą komputera i karty graficznej.*\n",
        "\n"
      ]
    }
  ]
}