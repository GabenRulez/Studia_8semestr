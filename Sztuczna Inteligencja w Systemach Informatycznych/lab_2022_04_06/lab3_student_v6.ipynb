{
  "nbformat": 4,
  "nbformat_minor": 0,
  "metadata": {
    "kernelspec": {
      "name": "python3",
      "display_name": "Python 3"
    },
    "language_info": {
      "codemirror_mode": {
        "name": "ipython",
        "version": 3
      },
      "file_extension": ".py",
      "mimetype": "text/x-python",
      "name": "python",
      "nbconvert_exporter": "python",
      "pygments_lexer": "ipython3",
      "version": "3.7.6"
    },
    "colab": {
      "name": "lab3-student_v6.ipynb",
      "provenance": [],
      "collapsed_sections": []
    }
  },
  "cells": [
    {
      "cell_type": "markdown",
      "metadata": {
        "id": "fs1IGQZELwru"
      },
      "source": [
        "# LAB3 - Uczenie sieci neuronowych z wykorzystaniem GPU\n",
        "ver: 6"
      ]
    },
    {
      "cell_type": "markdown",
      "metadata": {
        "id": "yS56lpyELwry"
      },
      "source": [
        "Przedmiot: _Sztuczna Inteligencja w Systemach Informatycznych_\n",
        "\n",
        "Autor: Tomasz Szydło\n",
        "\n",
        "kontakt: tszydlo@agh.edu.pl"
      ]
    },
    {
      "cell_type": "markdown",
      "metadata": {
        "id": "AZ_S41L3Lwr6"
      },
      "source": [
        "Celem laboratorium jest porównanie czasu uczenia sieci neuronowych z wykorzystaniem CPU oraz GPU. Przedmiotem uczenia będzie sieć rozpoznająca cyfry pisane odręcznie. W procesie uczenia zostanie wykorzystany zbiór MNIST:\n",
        "\n",
        "http://yann.lecun.com/exdb/mnist/\n",
        "\n",
        "\n",
        "Laboratorium może być zrealizowane w dwóch środowiskach pracy:\n",
        " * Google Colab w chmurze obliczeniowej;\n",
        " * lokalnie na komputerze wyposażonym w GPU.\n"
      ]
    },
    {
      "cell_type": "markdown",
      "metadata": {
        "id": "IpmQdcI4FZ1L"
      },
      "source": [
        "## Środowisko pracy - Google Codelab\n",
        "\n",
        "https://codelabs.developers.google.com/?cat=Machine+Learning\n",
        "\n",
        "Dostęp do notatnika: https://colab.research.google.com\n",
        "\n",
        "Włączenie/wyłączenie wsparcia GPU odbywa się poprzez zmianę opcji środowiska uruchomieniowego:\n",
        " * Runtime -> Change runtime type -> Hardware accelerator -> None/GPU\n"
      ]
    },
    {
      "cell_type": "markdown",
      "metadata": {
        "id": "e1Q7W6I1FsVO"
      },
      "source": [
        "## Środowisko pracy - PC + GPU/CUDA + Anaconda\n",
        "\n",
        "Realizacja laboratorium wymaga Anacondy ze środowiskami:\n",
        " * tensorflow\n",
        " * tensorflow_gpuenv\n",
        " \n",
        "Różnica pomiędzy nimi polega na wykorzystaniu implementacji biblioteki Tensorflow z NVidia CUDA.\n",
        "\n",
        "Tworzenie środowisk:\n",
        " * wersja z CPU:\n",
        "\n",
        "```\n",
        "conda create -n tensorflow_env tensorflow\n",
        "conda activate tensorflow_env\n",
        "```\n",
        "\n",
        " * wersja z GPU:\n",
        "\n",
        "```\n",
        "conda create -n tensorflow_gpuenv tensorflow-gpu\n",
        "conda activate tensorflow_gpuenv\n",
        "```\n",
        "\n",
        "Za pomocą Anaconda Navigator uruchamiamy Jupyter Notebook w konkretnym środowisku - tylko CPU lub ze wsparciem GPU.\n"
      ]
    },
    {
      "cell_type": "markdown",
      "metadata": {
        "id": "F25OBqfZLwsA"
      },
      "source": [
        "## Sieć neuronowa dla zbioru MNIST"
      ]
    },
    {
      "cell_type": "markdown",
      "metadata": {
        "id": "aTQZi3VcLwsC"
      },
      "source": [
        "Przygotowanie środowiska - należy uruchomić notatnik z obliczeniami wyłącznie na CPU."
      ]
    },
    {
      "cell_type": "code",
      "metadata": {
        "id": "Qs9wYVcZNY05"
      },
      "source": [
        "try:\n",
        "  %tensorflow_version 2.x\n",
        "except:\n",
        "  pass"
      ],
      "execution_count": null,
      "outputs": []
    },
    {
      "cell_type": "code",
      "metadata": {
        "id": "y3MzdLevLwsD"
      },
      "source": [
        "import numpy as np\n",
        "import matplotlib.pyplot as plt\n",
        "import tensorflow\n",
        "\n",
        "from tensorflow.keras.datasets import mnist\n",
        "from tensorflow.keras.models import Sequential\n",
        "from tensorflow.keras.layers import Dense, Dropout, Activation, Flatten, Conv2D, AveragePooling2D\n",
        "from keras.utils import np_utils\n",
        "\n",
        "plt.rcParams['figure.figsize'] = (7,7) # Make the figures a bit bigger"
      ],
      "execution_count": null,
      "outputs": []
    },
    {
      "cell_type": "code",
      "metadata": {
        "id": "aM1I_zfvxOKD"
      },
      "source": [
        "physical_devices = tensorflow.config.list_physical_devices('GPU')\n",
        "print(\"Num GPUs:\", len(physical_devices))"
      ],
      "execution_count": null,
      "outputs": []
    },
    {
      "cell_type": "code",
      "metadata": {
        "id": "6aDH7dBMLwsY"
      },
      "source": [
        "nb_classes = 10\n",
        "\n",
        "# the data, shuffled and split between tran and test sets\n",
        "(X_train, y_train), (X_test, y_test) = mnist.load_data()\n",
        "print(\"X_train original shape\", X_train.shape)\n",
        "print(\"y_train original shape\", y_train.shape)"
      ],
      "execution_count": null,
      "outputs": []
    },
    {
      "cell_type": "markdown",
      "metadata": {
        "id": "e1Fb4X4sLwsh"
      },
      "source": [
        "Zwizualizuj przykładowe dane."
      ]
    },
    {
      "cell_type": "code",
      "metadata": {
        "id": "q741OgE6Lwsi"
      },
      "source": [
        "for i in range(9):\n",
        "    plt.subplot(3,3,i+1)\n",
        "    plt.imshow(X_train[i], cmap='gray', interpolation='none')\n",
        "    plt.title(\"Class {}\".format(y_train[i]))"
      ],
      "execution_count": null,
      "outputs": []
    },
    {
      "cell_type": "markdown",
      "metadata": {
        "id": "NuFEHgMhLwsp"
      },
      "source": [
        "Sieć neuronowa przyjmuje na wejściu obrazek z jednym kanałem - poziomem jasności, więc konieczne jest przekształcenie danych wejściowych, aby każdy obraz 28 x 28 stał się macierzą 28 x 28 x 1. \n",
        "\n",
        "Skalujemy również dane wejściowe w zakresie [0–1] zamiast [0–255]"
      ]
    },
    {
      "cell_type": "code",
      "metadata": {
        "id": "2XwmB8dSLwsq"
      },
      "source": [
        "X_train = X_train.reshape(60000, 28,28,1)\n",
        "X_test = X_test.reshape(10000, 28,28,1)\n",
        "\n",
        "X_train = X_train.astype('float32')\n",
        "X_test = X_test.astype('float32')\n",
        "X_train /= #TODO\n",
        "X_test /= #TODO\n",
        "print(\"Training matrix shape\", X_train.shape)\n",
        "print(\"Testing matrix shape\", X_test.shape)"
      ],
      "execution_count": null,
      "outputs": []
    },
    {
      "cell_type": "markdown",
      "metadata": {
        "id": "hU9F52b4Lwsy"
      },
      "source": [
        "Zmodyfikuj macierze wyjść korzystając z techniki One Hot Encoding, tj.\n",
        "\n",
        "```\n",
        "0 -> [1, 0, 0, 0, 0, 0, 0, 0, 0]\n",
        "1 -> [0, 1, 0, 0, 0, 0, 0, 0, 0]\n",
        "2 -> [0, 0, 1, 0, 0, 0, 0, 0, 0]\n",
        "```\n",
        "itp."
      ]
    },
    {
      "cell_type": "code",
      "metadata": {
        "id": "mOEeudBmLwsz"
      },
      "source": [
        "Y_train = np_utils.to_categorical(#TODO)\n",
        "Y_test = np_utils.to_categorical(#TODO)"
      ],
      "execution_count": null,
      "outputs": []
    },
    {
      "cell_type": "markdown",
      "metadata": {
        "id": "AM5Kq1eaLws4"
      },
      "source": [
        "#Sieć MLP\n",
        "Zbuduj sieć neuronową. Na potrzeby zajęć sieć będzie posiadała 2 w pełni połączone warstwy. Na wejściu sieci jest macierz z jednym kanałem (28,28,1) dlatego pierwsza warstwa to *Flatten()*."
      ]
    },
    {
      "cell_type": "code",
      "metadata": {
        "id": "wKreY86SLws5"
      },
      "source": [
        "model = Sequential()\n",
        "model.add(Flatten(input_shape=(28,28,)))\n",
        "model.add(Dense(512, input_shape=(784,)))\n",
        "model.add(Activation('relu'))\n",
        "model.add(Dropout(0.2))   # Dropout helps protect the model from memorizing or \"overfitting\" the training data\n",
        "\n",
        "model.add(Dense(512))\n",
        "model.add(Activation('relu'))\n",
        "model.add(Dropout(0.2))\n",
        "\n",
        "model.add(Dense(10))\n",
        "model.add(Activation('softmax')) # w celu zapewnienia rozkładu wyjść sumującego się do 1"
      ],
      "execution_count": null,
      "outputs": []
    },
    {
      "cell_type": "markdown",
      "metadata": {
        "id": "5IIpzKZJ2gaQ"
      },
      "source": [
        "#Sieć CNN\n",
        "Zbuduj sieć neuronową. Powinna to być sieć LeNet-5 ze zmodyfikowanym rozmiarem wejścia (28,28,1) zamiast (32,32,1)."
      ]
    },
    {
      "cell_type": "code",
      "metadata": {
        "id": "CDGMkAkw2jjO"
      },
      "source": [
        "model = Sequential()\n",
        "model.add(Conv2D(filters=6, kernel_size=(3, 3), activation='relu', input_shape=(28,28,1)))\n",
        "\n",
        "#TODO"
      ],
      "execution_count": null,
      "outputs": []
    },
    {
      "cell_type": "markdown",
      "metadata": {
        "id": "aWGpp5O1Lws-"
      },
      "source": [
        "#Kompilacja modelu\n",
        "\n",
        "Kolejnym krokiem jest kompilacja modelu. Biblioteka Keras jest wysokopoziomowym API upraszczającym tworzenie i uczenie sieci neuronowych z wykorzystaniem biblitoeki Tensorflow. Podczas kompilacji sieci, biblioteka Keras wymaga określenia funkcji strat oraz algorytmu optymalizującego proces uczenia."
      ]
    },
    {
      "cell_type": "code",
      "metadata": {
        "id": "Cpn0-puHLws-"
      },
      "source": [
        "model.compile(loss='categorical_crossentropy', optimizer='adam', metrics=['accuracy'])"
      ],
      "execution_count": null,
      "outputs": []
    },
    {
      "cell_type": "code",
      "metadata": {
        "id": "MZH1a31GLwtF"
      },
      "source": [
        "model.summary()"
      ],
      "execution_count": null,
      "outputs": []
    },
    {
      "cell_type": "markdown",
      "metadata": {
        "id": "oN0iPEysLwtK"
      },
      "source": [
        "Po kompilacji modelu sieci neuronowej można przystąpić do uczenia sieci. Ze względu na fakt, że Jupyter notebook został uruchiomy w środowisku z biblioteką Tensorflow bez wsparcia dla GPU, to obliczenia będa wykonywane tylko i wyłącznie na CPU."
      ]
    },
    {
      "cell_type": "code",
      "metadata": {
        "id": "h13u1lcur4wl"
      },
      "source": [
        "import time\n",
        "import keras\n",
        "class TimeHistory(keras.callbacks.Callback):\n",
        "    def on_train_begin(self, logs={}):\n",
        "        self.times = []\n",
        "\n",
        "    def on_epoch_begin(self, batch, logs={}):\n",
        "        self.epoch_time_start = time.time()\n",
        "\n",
        "    def on_epoch_end(self, batch, logs={}):\n",
        "        self.times.append(time.time() - self.epoch_time_start)\n",
        "time_callback = TimeHistory()"
      ],
      "execution_count": null,
      "outputs": []
    },
    {
      "cell_type": "code",
      "metadata": {
        "id": "97euA1BoLwtK"
      },
      "source": [
        "model.fit(X_train, Y_train,\n",
        "          batch_size=128, epochs=16,\n",
        "          verbose=1,\n",
        "          validation_data=(X_test, Y_test), callbacks = time_callback)"
      ],
      "execution_count": null,
      "outputs": []
    },
    {
      "cell_type": "code",
      "metadata": {
        "id": "jT9qa296sjL9"
      },
      "source": [
        "times = time_callback.times\n",
        "\n",
        "print(times)"
      ],
      "execution_count": null,
      "outputs": []
    },
    {
      "cell_type": "markdown",
      "metadata": {
        "id": "QwwGeJ6PLwtp"
      },
      "source": [
        "## Ewaluacja sieci neuronowej dla zbioru MNIST"
      ]
    },
    {
      "cell_type": "code",
      "metadata": {
        "id": "W8ZNIBBdLwtr"
      },
      "source": [
        "score = model.evaluate(X_test, Y_test,verbose=0)\n",
        "print('Test score:', score)\n",
        "\n",
        "predicted_classes = np.argmax(model.predict(X_test), axis=-1)\n",
        "correct_indices = np.nonzero(predicted_classes == y_test)[0]\n",
        "incorrect_indices = np.nonzero(predicted_classes != y_test)[0]\n",
        "\n",
        "plt.figure()\n",
        "for i, correct in enumerate(correct_indices[:9]):\n",
        "    plt.subplot(3,3,i+1)\n",
        "    plt.imshow(X_test[correct].reshape(28,28), cmap='gray', interpolation='none')\n",
        "    plt.title(\"Predicted {}, Class {}\".format(predicted_classes[correct], y_test[correct]))\n",
        "    \n",
        "plt.figure()\n",
        "for i, incorrect in enumerate(incorrect_indices[:9]):\n",
        "    plt.subplot(3,3,i+1)\n",
        "    plt.imshow(X_test[incorrect].reshape(28,28), cmap='gray', interpolation='none')\n",
        "    plt.title(\"Predicted {}, Class {}\".format(predicted_classes[incorrect], y_test[incorrect]))"
      ],
      "execution_count": null,
      "outputs": []
    },
    {
      "cell_type": "markdown",
      "metadata": {
        "id": "XT0BYxGwLwtS"
      },
      "source": [
        "## Analiza czasu uczenia sieci z wykorzystaniem CPU oraz przy wsparciu GPU"
      ]
    },
    {
      "cell_type": "markdown",
      "metadata": {
        "id": "jv7kWHYwLwtS"
      },
      "source": [
        "Uzupełnij poniższy fragment kodu wpisując dane dotyczące czasu obliczeń dla każdej z szesnastu epok uczenia sieci neuronowej."
      ]
    },
    {
      "cell_type": "code",
      "metadata": {
        "id": "PBhpuE6SLwtT"
      },
      "source": [
        "cpu_epoch_time_MLP = [#TODO]\n",
        "cpu_accuracy_MLP = #TODO\n",
        "\n",
        "cpu_epoch_time_CNN = [#TODO]\n",
        "cpu_accuracy_CNN = #TODO\n"
      ],
      "execution_count": null,
      "outputs": []
    },
    {
      "cell_type": "markdown",
      "metadata": {
        "id": "rCnXpfgpLwtd"
      },
      "source": [
        "Uaktywnij wsparcie GPU dla obliczeń i uruchom ponownie proces uczenia sieci neuronowej na bazie MNIST i uzupełnij fragment kodu poniżej.\n",
        "\n",
        "W przypadku środowiska Anaconda zamknij środowisko *tensorflow\\_env* i uruchom środowisko *tensorflow\\_gpuenv*. W przypadku Google Colab zmień ustawienia środowiska uruchomieniowego.\n",
        "\n"
      ]
    },
    {
      "cell_type": "code",
      "metadata": {
        "id": "r19aSv6jLwte"
      },
      "source": [
        "gpu_epoch_time_MLP = [#TODO]\n",
        "gpu_accuracy_MLP = #TODO\n",
        "\n",
        "gpu_epoch_time_CNN = [#TODO]\n",
        "gpu_accuracy_CNN = #TODO"
      ],
      "execution_count": null,
      "outputs": []
    },
    {
      "cell_type": "markdown",
      "metadata": {
        "id": "FgGmLKKDLwtj"
      },
      "source": [
        "Zwizualizuj i przeanalizuj czas uczenia sieci neuronowej z CPU i GPU."
      ]
    },
    {
      "cell_type": "code",
      "metadata": {
        "id": "H8AOGoRtLwtj"
      },
      "source": [
        "#TODO przedstaw czas obliczeń gpu_epoch_time, cpu_epoch_time na wykresie pudełkowym\n",
        "\n",
        "plt.boxplot(#TODO)\n"
      ],
      "execution_count": null,
      "outputs": []
    },
    {
      "cell_type": "markdown",
      "metadata": {
        "id": "t23eG5H2PXiu"
      },
      "source": [
        "**Wnioski**\n",
        "\n",
        "*#TODO Przeanalizuj różnicę pomiędzy czasem obliczeń dla CPU i GPU oraz osiągniętą jakością sieci neuronowej.*\n",
        "\n",
        "*#TODO W przypadku korzystania z własnej karty GPU podaj specyfikację techniczą komputera i karty graficznej.*\n",
        "\n"
      ]
    }
  ]
}